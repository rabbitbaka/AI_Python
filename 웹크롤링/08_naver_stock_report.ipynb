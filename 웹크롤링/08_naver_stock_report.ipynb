{
 "cells": [
  {
   "cell_type": "markdown",
   "id": "cecf46f1-e026-4738-b3f2-2ed63dfa939e",
   "metadata": {},
   "source": [
    "# Crawling Naver Stock Report"
   ]
  },
  {
   "cell_type": "code",
   "execution_count": 255,
   "id": "3370fe05-15c6-47a8-97c6-7212410a414a",
   "metadata": {},
   "outputs": [],
   "source": [
    "import requests\n",
    "import pandas as pd\n",
    "from bs4 import BeautifulSoup"
   ]
  },
  {
   "cell_type": "code",
   "execution_count": 257,
   "id": "4166567b-b3b4-498a-9bac-f1013d5b9bb3",
   "metadata": {},
   "outputs": [],
   "source": [
    "# 1. URL\n",
    "page = 1\n",
    "url = f'https://finance.naver.com/research/company_list.naver?&page={page}'"
   ]
  },
  {
   "cell_type": "code",
   "execution_count": 259,
   "id": "3eb60792-6aab-4f30-adb4-3d483225662d",
   "metadata": {},
   "outputs": [
    {
     "data": {
      "text/plain": [
       "'<!--  global include -->\\n\\n\\t\\n\\t\\n\\t\\n\\t\\n\\t\\n<html lang=\\'ko\\'>\\n<head>\\n\\n\\n\\t\\n\\t\\n\\t\\t\\n\\t\\t\\t\\n\\t\\t\\t\\n\\t\\t\\t\\t<title>종목분석 리포트 : 네이버페이 증권</title>\\n\\t\\t\\t\\n\\t\\t\\n\\t\\n\\n\\n\\n\\n<meta http-equiv=\"Content-Type\" content=\"text/html; charset=utf-8\" />\\n\\n'"
      ]
     },
     "execution_count": 259,
     "metadata": {},
     "output_type": "execute_result"
    }
   ],
   "source": [
    "# 2. request(URL) > resonse(HTML)\n",
    "response = requests.get(url)\n",
    "response.text[:200]"
   ]
  },
  {
   "cell_type": "code",
   "execution_count": 261,
   "id": "396bc359-8743-488f-bd15-e31d2cd546ac",
   "metadata": {},
   "outputs": [
    {
     "data": {
      "text/plain": [
       "bs4.BeautifulSoup"
      ]
     },
     "execution_count": 261,
     "metadata": {},
     "output_type": "execute_result"
    }
   ],
   "source": [
    "# 3. HTML > BeautifulSoup > css-selector > DataFrame\n",
    "dom = BeautifulSoup(response.content, 'html.parser')\n",
    "type(dom) #select, select_one 사용"
   ]
  },
  {
   "cell_type": "code",
   "execution_count": 262,
   "id": "eae012d5-2017-41c2-b0d5-6036077113df",
   "metadata": {},
   "outputs": [
    {
     "data": {
      "text/plain": [
       "<tr>\n",
       "<td style=\"padding-left:10\">\n",
       "<a class=\"stock_item\" href=\"/item/main.naver?code=066570\" title=\"LG전자\">LG전자</a>\n",
       "</td>\n",
       "<td><a href=\"company_read.naver?nid=77126&amp;page=1\">AI데이터센터 냉각 시장 공략</a><img alt=\"NEW\" class=\"ico_new\" height=\"8\" src=\"https://ssl.pstatic.net/imgstock/images5/ico_research_new.gif\" width=\"8\"/></td>\n",
       "<td>교보증권</td>\n",
       "<td class=\"file\"><a href=\"https://stock.pstatic.net/stock-research/company/34/20240923_company_481199000.pdf\" target=\"_blank\"><img align=\"absmiddle\" alt=\"pdf\" src=\"https://ssl.pstatic.net/imgstock/images5/down.gif\"/></a></td>\n",
       "<td class=\"date\" style=\"padding-left:5px\">24.09.23</td>\n",
       "<td class=\"date\">713</td>\n",
       "</tr>"
      ]
     },
     "execution_count": 262,
     "metadata": {},
     "output_type": "execute_result"
    }
   ],
   "source": [
    "selector = 'table.type_1> tr'\n",
    "elements = dom.select(selector)\n",
    "elements[2]"
   ]
  },
  {
   "cell_type": "code",
   "execution_count": 263,
   "id": "e9bc7bea-fbfd-4290-a0a1-ed0a7c2715bb",
   "metadata": {},
   "outputs": [
    {
     "data": {
      "text/plain": [
       "[<td style=\"padding-left:10\">\n",
       " <a class=\"stock_item\" href=\"/item/main.naver?code=066570\" title=\"LG전자\">LG전자</a>\n",
       " </td>,\n",
       " <td><a href=\"company_read.naver?nid=77126&amp;page=1\">AI데이터센터 냉각 시장 공략</a><img alt=\"NEW\" class=\"ico_new\" height=\"8\" src=\"https://ssl.pstatic.net/imgstock/images5/ico_research_new.gif\" width=\"8\"/></td>,\n",
       " <td>교보증권</td>,\n",
       " <td class=\"file\"><a href=\"https://stock.pstatic.net/stock-research/company/34/20240923_company_481199000.pdf\" target=\"_blank\"><img align=\"absmiddle\" alt=\"pdf\" src=\"https://ssl.pstatic.net/imgstock/images5/down.gif\"/></a></td>,\n",
       " <td class=\"date\" style=\"padding-left:5px\">24.09.23</td>,\n",
       " <td class=\"date\">713</td>]"
      ]
     },
     "execution_count": 263,
     "metadata": {},
     "output_type": "execute_result"
    }
   ],
   "source": [
    "element = elements[2]\n",
    "tag = element.select('td')\n",
    "tag"
   ]
  },
  {
   "cell_type": "code",
   "execution_count": 267,
   "id": "d8670125-b704-48e8-a8dc-872525430fcb",
   "metadata": {},
   "outputs": [
    {
     "data": {
      "text/plain": [
       "{'stock_name': 'LG전자',\n",
       " 'stock_link': '/item/main.naver?code=066570',\n",
       " 'title': 'AI데이터센터 냉각 시장 공략',\n",
       " 'title_link': 'company_read.naver?nid=77126&page=1',\n",
       " 'writer': '교보증권',\n",
       " 'pdf_link': 'https://stock.pstatic.net/stock-research/company/34/20240923_company_481199000.pdf',\n",
       " 'date': '24.09.23',\n",
       " 'pv': '713'}"
      ]
     },
     "execution_count": 267,
     "metadata": {},
     "output_type": "execute_result"
    }
   ],
   "source": [
    "data={}\n",
    "data['stock_name'] = tag[0].select_one('a').text # a 엘리먼트의 text 추가\n",
    "#data['stock_name'] = tag[0].select('a')[0].text\n",
    "data['stock_link'] = tag[0].select_one('a').get('href')\n",
    "data['title'] = tag[1].select_one('a').text\n",
    "data['title_link'] = tag[1].select_one('a').get('href')\n",
    "data['writer'] = tag[2].text\n",
    "data['pdf_link'] = tag[3].select_one('a').get('href')\n",
    "data['date'] = tag[4].text\n",
    "data['pv'] = tag[5].text\n",
    "\n",
    "data"
   ]
  },
  {
   "cell_type": "code",
   "execution_count": 268,
   "id": "f6972fbf-efaf-4b36-bf7b-78321a2e3f01",
   "metadata": {},
   "outputs": [],
   "source": [
    "for idx, element in enumerate(elements): #idx 추가하는 enumerate 함수\n",
    "    tag = element.select('td')\n",
    "    #print(idx, len(tag))"
   ]
  },
  {
   "cell_type": "code",
   "execution_count": 270,
   "id": "544f3169-b846-42cb-a188-36cb8c8ef3a7",
   "metadata": {},
   "outputs": [],
   "source": [
    "# enumerate\n",
    "rows = []\n",
    "for idx, element in enumerate(elements): #idx 추가하는 enumerate 함수\n",
    "    tag = element.select('td')\n",
    "    if len(tag) == 6:\n",
    "        data={}\n",
    "        data['stock_name'] = tag[0].select_one('a').text\n",
    "        data['stock_link'] = tag[0].select_one('a').get('href')\n",
    "        data['title'] = tag[1].select_one('a').text\n",
    "        data['title_link'] = tag[1].select_one('a').get('href')\n",
    "        data['writer'] = tag[2].text\n",
    "        data['pdf_link'] = tag[3].select_one('a').get('href')\n",
    "        data['date'] = tag[4].text\n",
    "        data['pv'] = tag[5].text\n",
    "        rows.append(data)\n",
    "#rows"
   ]
  },
  {
   "cell_type": "code",
   "execution_count": 273,
   "id": "842ab2c6-75e1-4585-8e40-37882b2f4c47",
   "metadata": {},
   "outputs": [
    {
     "data": {
      "text/html": [
       "<div>\n",
       "<style scoped>\n",
       "    .dataframe tbody tr th:only-of-type {\n",
       "        vertical-align: middle;\n",
       "    }\n",
       "\n",
       "    .dataframe tbody tr th {\n",
       "        vertical-align: top;\n",
       "    }\n",
       "\n",
       "    .dataframe thead th {\n",
       "        text-align: right;\n",
       "    }\n",
       "</style>\n",
       "<table border=\"1\" class=\"dataframe\">\n",
       "  <thead>\n",
       "    <tr style=\"text-align: right;\">\n",
       "      <th></th>\n",
       "      <th>stock_name</th>\n",
       "      <th>stock_link</th>\n",
       "      <th>title</th>\n",
       "      <th>title_link</th>\n",
       "      <th>writer</th>\n",
       "      <th>pdf_link</th>\n",
       "      <th>date</th>\n",
       "      <th>pv</th>\n",
       "    </tr>\n",
       "  </thead>\n",
       "  <tbody>\n",
       "    <tr>\n",
       "      <th>28</th>\n",
       "      <td>동국S&amp;C</td>\n",
       "      <td>/item/main.naver?code=100130</td>\n",
       "      <td>금리 하락으로 미국에서 훈풍이 불어온다</td>\n",
       "      <td>company_read.naver?nid=77098&amp;page=1</td>\n",
       "      <td>iM증권</td>\n",
       "      <td>https://stock.pstatic.net/stock-research/compa...</td>\n",
       "      <td>24.09.19</td>\n",
       "      <td>1526</td>\n",
       "    </tr>\n",
       "    <tr>\n",
       "      <th>29</th>\n",
       "      <td>SOOP</td>\n",
       "      <td>/item/main.naver?code=067160</td>\n",
       "      <td>경쟁사 스트리머 이적, 트래픽 유입 기대</td>\n",
       "      <td>company_read.naver?nid=77097&amp;page=1</td>\n",
       "      <td>신한투자증권</td>\n",
       "      <td>https://stock.pstatic.net/stock-research/compa...</td>\n",
       "      <td>24.09.19</td>\n",
       "      <td>1485</td>\n",
       "    </tr>\n",
       "  </tbody>\n",
       "</table>\n",
       "</div>"
      ],
      "text/plain": [
       "   stock_name                    stock_link                   title  \\\n",
       "28      동국S&C  /item/main.naver?code=100130   금리 하락으로 미국에서 훈풍이 불어온다   \n",
       "29       SOOP  /item/main.naver?code=067160  경쟁사 스트리머 이적, 트래픽 유입 기대   \n",
       "\n",
       "                             title_link  writer  \\\n",
       "28  company_read.naver?nid=77098&page=1    iM증권   \n",
       "29  company_read.naver?nid=77097&page=1  신한투자증권   \n",
       "\n",
       "                                             pdf_link      date    pv  \n",
       "28  https://stock.pstatic.net/stock-research/compa...  24.09.19  1526  \n",
       "29  https://stock.pstatic.net/stock-research/compa...  24.09.19  1485  "
      ]
     },
     "execution_count": 273,
     "metadata": {},
     "output_type": "execute_result"
    }
   ],
   "source": [
    "df = pd.DataFrame(rows)\n",
    "df.tail(2)"
   ]
  },
  {
   "cell_type": "code",
   "execution_count": 274,
   "id": "cc212ca1-e5ad-4439-8e81-7b17fe981acf",
   "metadata": {},
   "outputs": [
    {
     "data": {
      "text/plain": [
       "[<td style=\"padding-left:10\">\n",
       " <a class=\"stock_item\" href=\"/item/main.naver?code=066570\" title=\"LG전자\">LG전자</a>\n",
       " </td>,\n",
       " <td><a href=\"company_read.naver?nid=77126&amp;page=1\">AI데이터센터 냉각 시장 공략</a><img alt=\"NEW\" class=\"ico_new\" height=\"8\" src=\"https://ssl.pstatic.net/imgstock/images5/ico_research_new.gif\" width=\"8\"/></td>,\n",
       " <td>교보증권</td>,\n",
       " <td class=\"file\"><a href=\"https://stock.pstatic.net/stock-research/company/34/20240923_company_481199000.pdf\" target=\"_blank\"><img align=\"absmiddle\" alt=\"pdf\" src=\"https://ssl.pstatic.net/imgstock/images5/down.gif\"/></a></td>,\n",
       " <td class=\"date\" style=\"padding-left:5px\">24.09.23</td>,\n",
       " <td class=\"date\">713</td>]"
      ]
     },
     "execution_count": 274,
     "metadata": {},
     "output_type": "execute_result"
    }
   ],
   "source": [
    "import requests\n",
    "import pandas as pd\n",
    "from bs4 import BeautifulSoup\n",
    "\n",
    "page = 1\n",
    "url = f'https://finance.naver.com/research/company_list.naver?&page={page}'\n",
    "response = requests.get(url)\n",
    "dom = BeautifulSoup(response.content, 'html.parser')\n",
    "elements = dom.select('table.type_1> tr')\n",
    "element = elements[2]\n",
    "tag = element.select('td')\n",
    "tag\n"
   ]
  },
  {
   "cell_type": "code",
   "execution_count": 276,
   "id": "498a9df1-2c20-4268-941d-d9eb2e82cd58",
   "metadata": {},
   "outputs": [
    {
     "data": {
      "text/plain": [
       "['.ipynb_checkpoints',\n",
       " '00_python.ipynb',\n",
       " '01_requests_naver_stock.ipynb',\n",
       " '02_requests_daum_exchange.ipynb',\n",
       " '03_rest_api.ipynb',\n",
       " '04_requests_zigbang.ipynb',\n",
       " '05_html.ipynb',\n",
       " '06_css_selector.ipynb',\n",
       " '07_naver_relational_keywords.ipynb',\n",
       " '08_naver_stock_report.ipynb',\n",
       " '09_selenium.ipynb',\n",
       " '10_xpath.ipynb',\n",
       " '11_iterator_generator.ipynb',\n",
       " '12_scrapy.ipynb',\n",
       " 'reports']"
      ]
     },
     "execution_count": 276,
     "metadata": {},
     "output_type": "execute_result"
    }
   ],
   "source": [
    "# file download\n",
    "# os package : 파일 시스템을 관리하는 파이썬 패키지\n",
    "import os\n",
    "path = 'reports'\n",
    "if not os.path.exists(path): #디렉토리, 파일이 존재하지 않으면\n",
    "    os.makedirs(path)\n",
    "# 파일목록출력\n",
    "os.listdir()"
   ]
  },
  {
   "cell_type": "code",
   "execution_count": 277,
   "id": "b4e0430f-bb05-4dc6-b292-dd1f89165e7f",
   "metadata": {},
   "outputs": [
    {
     "data": {
      "text/plain": [
       "('AI데이터센터 냉각 시장 공략',\n",
       " 'https://stock.pstatic.net/stock-research/company/34/20240923_company_481199000.pdf')"
      ]
     },
     "execution_count": 277,
     "metadata": {},
     "output_type": "execute_result"
    }
   ],
   "source": [
    "# 1. url\n",
    "title = df.loc[0,'title']\n",
    "pdf_link = df.loc[0,'pdf_link']\n",
    "title, pdf_link"
   ]
  },
  {
   "cell_type": "code",
   "execution_count": 279,
   "id": "ee97df9e-720f-4737-a999-635509dcb881",
   "metadata": {},
   "outputs": [],
   "source": [
    "# 2. request(url) > response(pdf)\n",
    "response = requests.get(pdf_link)"
   ]
  },
  {
   "cell_type": "code",
   "execution_count": 282,
   "id": "42801cda-01c5-46bd-a73b-4bd10e462389",
   "metadata": {},
   "outputs": [],
   "source": [
    "# 3. pdf > save(/reports)\n",
    "filename = f'{path}/{title}.pdf' #reports/AI데이터센터 냉각 시장 공략.pdf\n",
    "with open(filename, 'wb') as file:\n",
    "    file.write(response.content)"
   ]
  },
  {
   "cell_type": "code",
   "execution_count": 284,
   "id": "5bea78fe-9094-4ca8-a896-30d7e8590078",
   "metadata": {},
   "outputs": [
    {
     "data": {
      "text/plain": [
       "['2024년 3분기 부진 터널 통과해야!.pdf',\n",
       " '3Q24 Preview',\n",
       " '3Q24 일시적인 실적 둔화,  분위기 반전이 필...pdf',\n",
       " '3분기는 비수기, 그러나   주주 가치 환원에 ...pdf',\n",
       " 'AI데이터센터 냉각 시장 공략.pdf',\n",
       " 'Metsera, 너는 계획이 다 있구나.pdf',\n",
       " 'Moment of Truth.pdf',\n",
       " 'Re-rating 구간 돌입.pdf',\n",
       " '가치가 높아지는 F박스와 K패션 해외 진출 수...pdf',\n",
       " '경쟁력 있는 CDMO, 여기에도 있다.pdf',\n",
       " '경쟁사 스트리머 이적, 트래픽 유입 기대.pdf',\n",
       " '경증 아토피 치료의 글로벌  시장 판도를 바...pdf',\n",
       " '금리 하락으로 미국에서 훈풍이 불어온다.pdf',\n",
       " '길어지고 있는 기다림.pdf',\n",
       " '높아지는 Peak sales.pdf',\n",
       " '롯데렌탈의 쏘카 지분 추가취득 당분간 중단.pdf',\n",
       " '미국 타워 판가도 인상.pdf',\n",
       " '빅파마들의 RPT 방향, 우리도 간다.pdf',\n",
       " '설계와 시공능력으로 액침냉각 사업 확대.pdf',\n",
       " '속도가 느려도, 방향성은 맞다.pdf',\n",
       " '액침냉각, 기술적 강점을 확보해 나가는 중.pdf',\n",
       " '엔지니어링 플라스틱 소재 개발 및 고도화로 ...pdf',\n",
       " '엘사.pdf',\n",
       " '의대 열풍, 나만 믿어.pdf',\n",
       " '이튼의 견고한 성장 파트너.pdf',\n",
       " '지속가능한 성장.pdf',\n",
       " '코스닥 방사성의약품 기업으로 진입 .pdf',\n",
       " '콥데이 후기',\n",
       " '확대되는 TROP2 ADC 치료제 시장.pdf',\n",
       " '환율 모멘텀 발생 예상. 자사주 추가 매입 가...pdf']"
      ]
     },
     "execution_count": 284,
     "metadata": {},
     "output_type": "execute_result"
    }
   ],
   "source": [
    "os.listdir('reports')"
   ]
  },
  {
   "cell_type": "markdown",
   "id": "0f943918-1999-4203-8cb1-ab45fd138dbe",
   "metadata": {},
   "source": [
    "바이너리 형태로 저장한다.\n",
    "wt : text\n",
    "wb : 바이너리"
   ]
  },
  {
   "cell_type": "code",
   "execution_count": 288,
   "id": "141ce298-7632-42b7-b2a4-924f55e3a378",
   "metadata": {},
   "outputs": [],
   "source": [
    "# path 삭제\n",
    "import shutil\n",
    "shutil.rmtree(path)"
   ]
  },
  {
   "cell_type": "code",
   "execution_count": 289,
   "id": "3ef049e3-f3a9-4351-bae4-1fe050963347",
   "metadata": {},
   "outputs": [],
   "source": [
    "os.makedirs(path)"
   ]
  },
  {
   "cell_type": "code",
   "execution_count": 290,
   "id": "577ffdf9-e0f5-4543-bd68-4fe4d6247a34",
   "metadata": {},
   "outputs": [
    {
     "data": {
      "text/plain": [
       "[]"
      ]
     },
     "execution_count": 290,
     "metadata": {},
     "output_type": "execute_result"
    }
   ],
   "source": [
    "os.listdir(path)"
   ]
  },
  {
   "cell_type": "code",
   "execution_count": 294,
   "id": "53f3b302-366d-41a9-8930-0b891c932324",
   "metadata": {},
   "outputs": [
    {
     "name": "stdout",
     "output_type": "stream",
     "text": [
      "0 1 2 3 4 5 6 7 8 9 10 11 12 13 14 15 16 17 18 19 20 21 22 23 24 25 26 27 28 29 "
     ]
    }
   ],
   "source": [
    "for idx, row in df.iterrows():\n",
    "    #print(idx, row['title'],row['pdf_link'])\n",
    "    print(idx, end=' ')\n",
    "    title , pdf_link = row['title'],row['pdf_link']\n",
    "    response = requests.get(pdf_link)\n",
    "    filename = f'{path}/{title}.pdf'\n",
    "    with open(filename, 'wb') as file:\n",
    "        file.write(response.content)"
   ]
  },
  {
   "cell_type": "code",
   "execution_count": 295,
   "id": "53126573-298e-4566-a4b4-b5a82eb41d67",
   "metadata": {},
   "outputs": [
    {
     "data": {
      "text/plain": [
       "['2024년 3분기 부진 터널 통과해야!.pdf',\n",
       " '3Q24 Preview',\n",
       " '3Q24 일시적인 실적 둔화,  분위기 반전이 필...pdf',\n",
       " '3분기는 비수기, 그러나   주주 가치 환원에 ...pdf',\n",
       " 'AI데이터센터 냉각 시장 공략.pdf',\n",
       " 'Metsera, 너는 계획이 다 있구나.pdf',\n",
       " 'Moment of Truth.pdf',\n",
       " 'Re-rating 구간 돌입.pdf',\n",
       " '가치가 높아지는 F박스와 K패션 해외 진출 수...pdf',\n",
       " '경쟁력 있는 CDMO, 여기에도 있다.pdf',\n",
       " '경쟁사 스트리머 이적, 트래픽 유입 기대.pdf',\n",
       " '경증 아토피 치료의 글로벌  시장 판도를 바...pdf',\n",
       " '금리 하락으로 미국에서 훈풍이 불어온다.pdf',\n",
       " '길어지고 있는 기다림.pdf',\n",
       " '높아지는 Peak sales.pdf',\n",
       " '롯데렌탈의 쏘카 지분 추가취득 당분간 중단.pdf',\n",
       " '미국 타워 판가도 인상.pdf',\n",
       " '빅파마들의 RPT 방향, 우리도 간다.pdf',\n",
       " '설계와 시공능력으로 액침냉각 사업 확대.pdf',\n",
       " '속도가 느려도, 방향성은 맞다.pdf',\n",
       " '액침냉각, 기술적 강점을 확보해 나가는 중.pdf',\n",
       " '엔지니어링 플라스틱 소재 개발 및 고도화로 ...pdf',\n",
       " '엘사.pdf',\n",
       " '의대 열풍, 나만 믿어.pdf',\n",
       " '이튼의 견고한 성장 파트너.pdf',\n",
       " '지속가능한 성장.pdf',\n",
       " '코스닥 방사성의약품 기업으로 진입 .pdf',\n",
       " '콥데이 후기',\n",
       " '확대되는 TROP2 ADC 치료제 시장.pdf',\n",
       " '환율 모멘텀 발생 예상. 자사주 추가 매입 가...pdf']"
      ]
     },
     "execution_count": 295,
     "metadata": {},
     "output_type": "execute_result"
    }
   ],
   "source": [
    "os.listdir(path)"
   ]
  },
  {
   "cell_type": "code",
   "execution_count": null,
   "id": "88b4eead-b3f9-4bb1-9ffb-1faf84a62d15",
   "metadata": {},
   "outputs": [],
   "source": []
  }
 ],
 "metadata": {
  "kernelspec": {
   "display_name": "Python 3 (ipykernel)",
   "language": "python",
   "name": "python3"
  },
  "language_info": {
   "codemirror_mode": {
    "name": "ipython",
    "version": 3
   },
   "file_extension": ".py",
   "mimetype": "text/x-python",
   "name": "python",
   "nbconvert_exporter": "python",
   "pygments_lexer": "ipython3",
   "version": "3.12.4"
  }
 },
 "nbformat": 4,
 "nbformat_minor": 5
}
