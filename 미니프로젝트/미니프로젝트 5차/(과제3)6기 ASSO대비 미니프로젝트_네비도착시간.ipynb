{
 "cells": [
  {
   "cell_type": "markdown",
   "id": "1f32dd86-1670-4327-bfe9-9d99b93a5d9c",
   "metadata": {},
   "source": [
    "**AIVLE School 미니프로젝트**\n",
    "### **네비게이션 주행데이터를 이용한 <span style=\"color:darkgreen\">도착시각</span> 예측 문제**\n",
    "---"
   ]
  },
  {
   "cell_type": "markdown",
   "id": "d2341ad0-ca25-4cd0-8a66-63ba196797cb",
   "metadata": {},
   "source": [
    "<br>"
   ]
  },
  {
   "cell_type": "markdown",
   "id": "1951fedb-3724-418c-8de8-ac69b120d310",
   "metadata": {},
   "source": [
    "#### **<span style=\"color:red\">[미션 안내]</span>**\n",
    "* 네비게이션 주행데이터를 읽어들여 데이터를 분석 및 전처리한 후 머신러닝과 딥러닝으로 도착시각을 예측하고 결과를 분석하세요."
   ]
  },
  {
   "cell_type": "markdown",
   "id": "07c798aa-1b49-4dae-af82-dd853b9e7886",
   "metadata": {},
   "source": [
    "#### **<span style=\"color:red\">[유의 사항]</span>**\n",
    "* 각 문항의 답안코드는 반드시 '#여기에 답안코드를 작성하세요'로 표시된 cell에 작성해야 합니다.\n",
    "* 제공된 cell을 추가/삭제하고 다른 cell에 답안코드를 작성 시 채점되지 않습니다.\n",
    "* 반드시 문제에 제시된 가이드를 읽고 답안 작성하세요.\n",
    "* 문제에 변수명이 제시된 경우 반드시 해당 변수명을 사용하세요.\n",
    "* 문제와 데이터는 제3자에게 공유하거나 개인적인 용도로 사용하는 등 외부로 유출할 수 없으며 유출로 인한 책임은 응시자 본인에게 있습니다."
   ]
  },
  {
   "cell_type": "markdown",
   "id": "f2e1c59a-e306-45f5-90d0-252e63994de8",
   "metadata": {},
   "source": [
    "<br>"
   ]
  },
  {
   "cell_type": "code",
   "execution_count": 5,
   "id": "d0283feb-970b-42d0-8e8b-6f239383694a",
   "metadata": {},
   "outputs": [],
   "source": [
    "import matplotlib.pyplot as plt\n",
    "plt.rcParams['font.family'] ='Malgun Gothic'\n",
    "plt.rcParams['axes.unicode_minus'] =False"
   ]
  },
  {
   "cell_type": "code",
   "execution_count": 6,
   "id": "cf53d131-f598-400a-b220-e63b4ddcd9d7",
   "metadata": {},
   "outputs": [],
   "source": [
    "import matplotlib.pyplot as plt\n",
    "import matplotlib.font_manager as fm"
   ]
  },
  {
   "cell_type": "code",
   "execution_count": 7,
   "id": "a83b92de-ebbb-4bf8-882f-6fe4b2438251",
   "metadata": {},
   "outputs": [],
   "source": [
    "import warnings\n",
    "warnings.filterwarnings(action='ignore')"
   ]
  },
  {
   "cell_type": "markdown",
   "id": "cb429a27-f439-4323-a69f-aa554cebeb5f",
   "metadata": {},
   "source": [
    "### 1. scikit-learn 패키지는 머신러닝 교육을 위한 최고의 파이썬 패키지입니다.\n",
    "### scikit-learn를 별칭(alias) sk로 임포트하는 코드를 작성하고 실행하세요."
   ]
  },
  {
   "cell_type": "code",
   "execution_count": 9,
   "id": "78bfda52-7125-4bf4-99cc-a49888f3557b",
   "metadata": {},
   "outputs": [],
   "source": [
    "# 여기에 답안코드를 작성하세요.\n",
    "import sklearn as sk"
   ]
  },
  {
   "cell_type": "markdown",
   "id": "7d66e4d1-6a30-484d-920e-772b815f50c7",
   "metadata": {},
   "source": [
    "<br>"
   ]
  },
  {
   "cell_type": "markdown",
   "id": "d792db90-2273-4eef-a0f2-3cb37d2edf7c",
   "metadata": {},
   "source": [
    "### 2. Pandas는 데이터 분석을 위해 널리 사용되는 파이썬 라이브러리입니다.\n",
    "### Pandas를 사용할 수 있도록 별칭(alias)을 pd로 해서 불러오세요."
   ]
  },
  {
   "cell_type": "code",
   "execution_count": 12,
   "id": "771f7972-0473-4db8-8797-95ddc19017fc",
   "metadata": {},
   "outputs": [],
   "source": [
    "# 여기에 답안코드를 작성하세요.\n",
    "import pandas as pd"
   ]
  },
  {
   "cell_type": "markdown",
   "id": "326a5dea-8170-4655-a4c6-ed1d3e4a1718",
   "metadata": {},
   "source": [
    "<br>"
   ]
  },
  {
   "cell_type": "markdown",
   "id": "55ced9e0-391e-4169-acd5-2165cd5b3ee0",
   "metadata": {},
   "source": [
    "### 3. 모델링을 위해 분석 및 처리할 데이터 파일을 읽어오려고 합니다.\n",
    "### Pandas함수로 데이터 파일을 읽어 데이터프레임 변수명 df에 할당하는 코드를 작성하세요.\n",
    "* A0007IT.json 파일을 읽어 데이터 프레임 변수명 df에 할당하세요."
   ]
  },
  {
   "cell_type": "code",
   "execution_count": 15,
   "id": "dbc291ca-4629-4beb-be81-1633aa8e62b2",
   "metadata": {},
   "outputs": [],
   "source": [
    "# 여기에 답안코드를 작성하세요.\n",
    "df = pd.read_json('A0007IT.json')"
   ]
  },
  {
   "cell_type": "markdown",
   "id": "6a34284c-1724-4326-8079-b823f1e9b08b",
   "metadata": {},
   "source": [
    "<br>"
   ]
  },
  {
   "cell_type": "markdown",
   "id": "a1c7f855-339a-4600-a87d-64a5525edcc8",
   "metadata": {},
   "source": [
    "### 4. Address1(주소1)에 대한 분포도를 알아 보려고 합니다.\n",
    "### Address1(주소1)에 대해 countplot그래프로 만들고 아래 가이드에 따라 답하세요.\n",
    "* Seaborn을 활용하세요.\n",
    "* 첫번째, Address1(주소1)에 대해서 분포를 보여주는 countplot그래프 그리세요.\n",
    "* 두번째, 지역명이 없는 '-'에 해당되는 row(행)을 삭제하세요."
   ]
  },
  {
   "cell_type": "code",
   "execution_count": 18,
   "id": "865d5d47-ce7e-4536-828f-b9d5ab804780",
   "metadata": {
    "tags": []
   },
   "outputs": [
    {
     "data": {
      "image/png": "[encoded data removed]",
      "text/plain": [
       "<Figure size 800x500 with 1 Axes>"
      ]
     },
     "metadata": {},
     "output_type": "display_data"
    }
   ],
   "source": [
    "import pandas as pd\n",
    "import seaborn as sns\n",
    "import matplotlib.pyplot as plt\n",
    "\n",
    "plt.figure(figsize=(8, 5))\n",
    "sns.countplot(data=df, x=df['Address1'])\n",
    "plt.show()"
   ]
  },
  {
   "cell_type": "code",
   "execution_count": 19,
   "id": "35c6b2b5-fd28-4cd2-9203-884b79e50545",
   "metadata": {},
   "outputs": [
    {
     "data": {
      "text/html": [
       "<div>\n",
       "<style scoped>\n",
       "    .dataframe tbody tr th:only-of-type {\n",
       "        vertical-align: middle;\n",
       "    }\n",
       "\n",
       "    .dataframe tbody tr th {\n",
       "        vertical-align: top;\n",
       "    }\n",
       "\n",
       "    .dataframe thead th {\n",
       "        text-align: right;\n",
       "    }\n",
       "</style>\n",
       "<table border=\"1\" class=\"dataframe\">\n",
       "  <thead>\n",
       "    <tr style=\"text-align: right;\">\n",
       "      <th></th>\n",
       "      <th>Time_Departure</th>\n",
       "      <th>Time_Arrival</th>\n",
       "      <th>Distance</th>\n",
       "      <th>Time_Driving</th>\n",
       "      <th>Speed_Per_Hour</th>\n",
       "      <th>Address1</th>\n",
       "      <th>Address2</th>\n",
       "      <th>Signaltype</th>\n",
       "      <th>Weekday</th>\n",
       "      <th>Hour</th>\n",
       "      <th>Day</th>\n",
       "    </tr>\n",
       "  </thead>\n",
       "  <tbody>\n",
       "    <tr>\n",
       "      <th>0</th>\n",
       "      <td>35:21.0</td>\n",
       "      <td>55:22.6</td>\n",
       "      <td>12914.0</td>\n",
       "      <td>1201.534058</td>\n",
       "      <td>38.692536</td>\n",
       "      <td>경기도</td>\n",
       "      <td>광명시</td>\n",
       "      <td>7</td>\n",
       "      <td>0</td>\n",
       "      <td>5</td>\n",
       "      <td>20</td>\n",
       "    </tr>\n",
       "    <tr>\n",
       "      <th>1</th>\n",
       "      <td>55:22.0</td>\n",
       "      <td>09:06.9</td>\n",
       "      <td>7483.0</td>\n",
       "      <td>823.817017</td>\n",
       "      <td>32.699980</td>\n",
       "      <td>서울특별시</td>\n",
       "      <td>영등포구</td>\n",
       "      <td>31</td>\n",
       "      <td>0</td>\n",
       "      <td>5</td>\n",
       "      <td>20</td>\n",
       "    </tr>\n",
       "    <tr>\n",
       "      <th>2</th>\n",
       "      <td>13:46.0</td>\n",
       "      <td>22:32.9</td>\n",
       "      <td>8087.0</td>\n",
       "      <td>526.710998</td>\n",
       "      <td>55.273575</td>\n",
       "      <td>경기도</td>\n",
       "      <td>김포시</td>\n",
       "      <td>6</td>\n",
       "      <td>0</td>\n",
       "      <td>0</td>\n",
       "      <td>20</td>\n",
       "    </tr>\n",
       "    <tr>\n",
       "      <th>3</th>\n",
       "      <td>13:43.0</td>\n",
       "      <td>28:42.7</td>\n",
       "      <td>10528.0</td>\n",
       "      <td>898.581970</td>\n",
       "      <td>42.178456</td>\n",
       "      <td>경기도</td>\n",
       "      <td>광주시</td>\n",
       "      <td>2</td>\n",
       "      <td>0</td>\n",
       "      <td>0</td>\n",
       "      <td>20</td>\n",
       "    </tr>\n",
       "    <tr>\n",
       "      <th>4</th>\n",
       "      <td>01:57.0</td>\n",
       "      <td>17:58.2</td>\n",
       "      <td>10636.0</td>\n",
       "      <td>957.758972</td>\n",
       "      <td>39.978326</td>\n",
       "      <td>경기도</td>\n",
       "      <td>안산시 상록구</td>\n",
       "      <td>28</td>\n",
       "      <td>0</td>\n",
       "      <td>0</td>\n",
       "      <td>20</td>\n",
       "    </tr>\n",
       "    <tr>\n",
       "      <th>...</th>\n",
       "      <td>...</td>\n",
       "      <td>...</td>\n",
       "      <td>...</td>\n",
       "      <td>...</td>\n",
       "      <td>...</td>\n",
       "      <td>...</td>\n",
       "      <td>...</td>\n",
       "      <td>...</td>\n",
       "      <td>...</td>\n",
       "      <td>...</td>\n",
       "      <td>...</td>\n",
       "    </tr>\n",
       "    <tr>\n",
       "      <th>55526</th>\n",
       "      <td>57:07.0</td>\n",
       "      <td>06:15.7</td>\n",
       "      <td>4448.0</td>\n",
       "      <td>544.301025</td>\n",
       "      <td>29.419015</td>\n",
       "      <td>경기도</td>\n",
       "      <td>파주시</td>\n",
       "      <td>22</td>\n",
       "      <td>4</td>\n",
       "      <td>23</td>\n",
       "      <td>24</td>\n",
       "    </tr>\n",
       "    <tr>\n",
       "      <th>55527</th>\n",
       "      <td>57:26.0</td>\n",
       "      <td>07:15.3</td>\n",
       "      <td>3106.0</td>\n",
       "      <td>535.666992</td>\n",
       "      <td>20.874163</td>\n",
       "      <td>서울특별시</td>\n",
       "      <td>구로구</td>\n",
       "      <td>16</td>\n",
       "      <td>4</td>\n",
       "      <td>23</td>\n",
       "      <td>24</td>\n",
       "    </tr>\n",
       "    <tr>\n",
       "      <th>55528</th>\n",
       "      <td>57:46.0</td>\n",
       "      <td>07:56.8</td>\n",
       "      <td>10325.0</td>\n",
       "      <td>610.799988</td>\n",
       "      <td>60.854618</td>\n",
       "      <td>서울특별시</td>\n",
       "      <td>광진구</td>\n",
       "      <td>5</td>\n",
       "      <td>4</td>\n",
       "      <td>23</td>\n",
       "      <td>24</td>\n",
       "    </tr>\n",
       "    <tr>\n",
       "      <th>55529</th>\n",
       "      <td>58:03.0</td>\n",
       "      <td>12:42.4</td>\n",
       "      <td>4458.0</td>\n",
       "      <td>878.479004</td>\n",
       "      <td>18.268849</td>\n",
       "      <td>서울특별시</td>\n",
       "      <td>구로구</td>\n",
       "      <td>32</td>\n",
       "      <td>4</td>\n",
       "      <td>23</td>\n",
       "      <td>24</td>\n",
       "    </tr>\n",
       "    <tr>\n",
       "      <th>55530</th>\n",
       "      <td>58:56.0</td>\n",
       "      <td>08:10.4</td>\n",
       "      <td>3780.0</td>\n",
       "      <td>553.580994</td>\n",
       "      <td>24.581769</td>\n",
       "      <td>서울특별시</td>\n",
       "      <td>강남구</td>\n",
       "      <td>18</td>\n",
       "      <td>4</td>\n",
       "      <td>23</td>\n",
       "      <td>24</td>\n",
       "    </tr>\n",
       "  </tbody>\n",
       "</table>\n",
       "<p>55441 rows × 11 columns</p>\n",
       "</div>"
      ],
      "text/plain": [
       "      Time_Departure Time_Arrival  Distance  Time_Driving  Speed_Per_Hour  \\\n",
       "0            35:21.0      55:22.6   12914.0   1201.534058       38.692536   \n",
       "1            55:22.0      09:06.9    7483.0    823.817017       32.699980   \n",
       "2            13:46.0      22:32.9    8087.0    526.710998       55.273575   \n",
       "3            13:43.0      28:42.7   10528.0    898.581970       42.178456   \n",
       "4            01:57.0      17:58.2   10636.0    957.758972       39.978326   \n",
       "...              ...          ...       ...           ...             ...   \n",
       "55526        57:07.0      06:15.7    4448.0    544.301025       29.419015   \n",
       "55527        57:26.0      07:15.3    3106.0    535.666992       20.874163   \n",
       "55528        57:46.0      07:56.8   10325.0    610.799988       60.854618   \n",
       "55529        58:03.0      12:42.4    4458.0    878.479004       18.268849   \n",
       "55530        58:56.0      08:10.4    3780.0    553.580994       24.581769   \n",
       "\n",
       "      Address1 Address2  Signaltype  Weekday  Hour  Day  \n",
       "0          경기도      광명시           7        0     5   20  \n",
       "1        서울특별시     영등포구          31        0     5   20  \n",
       "2          경기도      김포시           6        0     0   20  \n",
       "3          경기도      광주시           2        0     0   20  \n",
       "4          경기도  안산시 상록구          28        0     0   20  \n",
       "...        ...      ...         ...      ...   ...  ...  \n",
       "55526      경기도      파주시          22        4    23   24  \n",
       "55527    서울특별시      구로구          16        4    23   24  \n",
       "55528    서울특별시      광진구           5        4    23   24  \n",
       "55529    서울특별시      구로구          32        4    23   24  \n",
       "55530    서울특별시      강남구          18        4    23   24  \n",
       "\n",
       "[55441 rows x 11 columns]"
      ]
     },
     "execution_count": 19,
     "metadata": {},
     "output_type": "execute_result"
    }
   ],
   "source": [
    "df = df.loc[df['Address1'] != '-']\n",
    "df"
   ]
  },
  {
   "cell_type": "code",
   "execution_count": 20,
   "id": "e822e760-b13c-4f16-a0bd-3f81960744a0",
   "metadata": {},
   "outputs": [
    {
     "data": {
      "image/png": "[encoded data removed]",
      "text/plain": [
       "<Figure size 800x500 with 1 Axes>"
      ]
     },
     "metadata": {},
     "output_type": "display_data"
    }
   ],
   "source": [
    "import pandas as pd\n",
    "import seaborn as sns\n",
    "import matplotlib.pyplot as plt\n",
    "\n",
    "plt.figure(figsize=(8, 5))\n",
    "sns.countplot(data=df, x=df['Address1'])\n",
    "plt.show()"
   ]
  },
  {
   "cell_type": "markdown",
   "id": "594967e8-9231-4671-a88e-7b54898ffa4e",
   "metadata": {},
   "source": [
    "<br>"
   ]
  },
  {
   "cell_type": "markdown",
   "id": "ff6b633c-fbb2-40d1-982e-5e57daac66cc",
   "metadata": {},
   "source": [
    "### 5. 실주행시간과 평균시속의 분포를 같이 확인하려고 합니다.\n",
    "### Time_Driving(실주행시간)과 Speed_Per_Hour(평균시속)을 jointplot 그래프로 만드세요.\n",
    "* Seaborn을 활용하세요.\n",
    "* X축에는 Time_Driving(실주행시간)을 표시하고 Y축에는 Speed_Per_Hour(평균시속)을 표시하세요."
   ]
  },
  {
   "cell_type": "code",
   "execution_count": 23,
   "id": "2fea390a-d416-48cf-ad9d-40d244d5ee70",
   "metadata": {},
   "outputs": [
    {
     "data": {
      "text/plain": [
       "<seaborn.axisgrid.JointGrid at 0x20250f5d0d0>"
      ]
     },
     "execution_count": 23,
     "metadata": {},
     "output_type": "execute_result"
    },
    {
     "data": {
      "image/png": "[encoded data removed]",
      "text/plain": [
       "<Figure size 600x600 with 3 Axes>"
      ]
     },
     "metadata": {},
     "output_type": "display_data"
    }
   ],
   "source": [
    "import seaborn as sns\n",
    "sns.jointplot(x='Time_Driving', y='Speed_Per_Hour',data=df)"
   ]
  },
  {
   "cell_type": "markdown",
   "id": "7c3d46d9-2a4a-49ce-ace2-b007933c2a53",
   "metadata": {},
   "source": [
    "<br>"
   ]
  },
  {
   "cell_type": "markdown",
   "id": "c7ba7823-db7b-409c-91a2-13519680b52c",
   "metadata": {},
   "source": [
    "### 6. 위의 jointplot 그래프에서 시속 300이 넘는 이상치를 발견할 수 있습니다.\n",
    "### jointplot 그래프에서 발견한 이상치 1개를 삭제하세요.\n",
    "* 대상 데이터프레임: df\n",
    "* jointplot 그래프를 보고 시속 300 이상되는 이상치를 찾아 해당 행(Row)을 삭제하세요.\n",
    "* 전처리 반영 후에 새로운 데이터프레임 변수명 df_temp에 저장하세요."
   ]
  },
  {
   "cell_type": "code",
   "execution_count": 26,
   "id": "414a676e-0392-4e52-a8fa-bc4dd71482b8",
   "metadata": {},
   "outputs": [],
   "source": [
    "df_temp = df.loc[df['Speed_Per_Hour'] < 300]"
   ]
  },
  {
   "cell_type": "markdown",
   "id": "43d2735b-8ba6-44c9-9e08-6c53002f1b46",
   "metadata": {},
   "source": [
    "<br>"
   ]
  },
  {
   "cell_type": "markdown",
   "id": "f086ac8c-cef8-4944-a518-81fc042b1444",
   "metadata": {},
   "source": [
    "### 7. 모델링 성능을 제대로 얻기 위해서 결측치 처리는 필수입니다.\n",
    "### 아래 가이드를 따라 결측치 처리하세요.\n",
    "* 대상 데이터프레임: df_temp\n",
    "* 결측치를 확인하는 코드를 작성하세요.\n",
    "* 결측치가 있는 행(raw)를 삭제 하세요.\n",
    "* 전처리 반영된 결과를 새로운 데이터프레임 변수명 df_na에 저장하세요."
   ]
  },
  {
   "cell_type": "code",
   "execution_count": 29,
   "id": "ccc8da5a-221a-4c13-ab4e-792264ea48a8",
   "metadata": {},
   "outputs": [
    {
     "data": {
      "text/plain": [
       "Time_Departure    0\n",
       "Time_Arrival      0\n",
       "Distance          2\n",
       "Time_Driving      3\n",
       "Speed_Per_Hour    0\n",
       "Address1          0\n",
       "Address2          0\n",
       "Signaltype        0\n",
       "Weekday           0\n",
       "Hour              0\n",
       "Day               0\n",
       "dtype: int64"
      ]
     },
     "execution_count": 29,
     "metadata": {},
     "output_type": "execute_result"
    }
   ],
   "source": [
    "# 여기에 답안코드를 작성하세요.\n",
    "df_temp.isnull().sum()"
   ]
  },
  {
   "cell_type": "code",
   "execution_count": 30,
   "id": "1352f789-2fbf-4a2a-86b2-a9067d64d53c",
   "metadata": {},
   "outputs": [],
   "source": [
    "df_na = df_temp.dropna()"
   ]
  },
  {
   "cell_type": "code",
   "execution_count": 31,
   "id": "fb737961-98e4-4c42-8668-237a3e6ee753",
   "metadata": {},
   "outputs": [
    {
     "data": {
      "text/plain": [
       "Time_Departure    0\n",
       "Time_Arrival      0\n",
       "Distance          0\n",
       "Time_Driving      0\n",
       "Speed_Per_Hour    0\n",
       "Address1          0\n",
       "Address2          0\n",
       "Signaltype        0\n",
       "Weekday           0\n",
       "Hour              0\n",
       "Day               0\n",
       "dtype: int64"
      ]
     },
     "execution_count": 31,
     "metadata": {},
     "output_type": "execute_result"
    }
   ],
   "source": [
    "df_na.isnull().sum()"
   ]
  },
  {
   "cell_type": "markdown",
   "id": "46c64f89-a3ee-45d7-94f4-5ede4c6d6e92",
   "metadata": {},
   "source": [
    "<br>"
   ]
  },
  {
   "cell_type": "markdown",
   "id": "590a5dfe-8ebf-4fdc-9c6b-f3b03fc57890",
   "metadata": {},
   "source": [
    "### 8. 모델링 성능을 제대로 얻기 위해서 불필요한 변수는 삭제해야 합니다.\n",
    "### 아래 가이드를 따라 불필요 데이터를 삭제 처리하세요.\n",
    "* 대상 데이터프레임: df_na\n",
    "* 'Time_Departure', 'Time_Arrival' 2개 컬럼을 삭제하세요.\n",
    "* 전처리 반영된 결과를 새로운 데이터프레임 변수명 df_del에 저장하세요."
   ]
  },
  {
   "cell_type": "code",
   "execution_count": 34,
   "id": "7573f7e1-eeb9-436b-8fb4-af7ba4872782",
   "metadata": {},
   "outputs": [],
   "source": [
    "del_cols = ['Time_Departure', 'Time_Arrival']\n",
    "df_del = df_na.drop(columns = del_cols)"
   ]
  },
  {
   "cell_type": "markdown",
   "id": "9db815d3-4725-42e4-a34d-a693ef160dc4",
   "metadata": {},
   "source": [
    "<br>"
   ]
  },
  {
   "cell_type": "markdown",
   "id": "2364a91e-b4d4-4471-8171-82cd7a87cb25",
   "metadata": {},
   "source": [
    "### 9. 원-핫 인코딩(One-hot encoding)은 범주형 변수를 1과 0의 이진형 벡터로 변환하기 위하여 사용하는 방법입니다.\n",
    "### 원-핫 인코딩으로 아래 조건에 해당하는 컬럼 데이터를 변환하세요.\n",
    "* 대상 데이터프레임: df_del\n",
    "* 원-핫 인코딩 대상: object 타입의 전체 컬럼\n",
    "* 활용 함수: pandas의 get_dummies\n",
    "* 해당 전처리가 반영된 결과를 데이터프레임 변수 df_preset에 저장해 주세요."
   ]
  },
  {
   "cell_type": "code",
   "execution_count": 37,
   "id": "abbad879-2bf9-4177-837a-0dcca9adcd43",
   "metadata": {},
   "outputs": [],
   "source": [
    "object_cols = df_del.select_dtypes(include='object').columns.tolist()"
   ]
  },
  {
   "cell_type": "code",
   "execution_count": 38,
   "id": "f9421e7a-a6a2-4ad7-8228-5d3f76564ba8",
   "metadata": {},
   "outputs": [],
   "source": [
    "df_preset = pd.get_dummies(df_del, columns=object_cols, drop_first=True, dtype=int)"
   ]
  },
  {
   "cell_type": "markdown",
   "id": "4266bd53-b060-4355-b473-c051cbbc908e",
   "metadata": {},
   "source": [
    "<br>"
   ]
  },
  {
   "cell_type": "markdown",
   "id": "6b01b0e7-30e3-4a64-8e6a-1e45507a8262",
   "metadata": {},
   "source": [
    "### 10. 훈련과 검증 각각에 사용할 데이터셋을 분리하려고 합니다.\n",
    "### Time_Driving(실주행시간) 컬럼을 label값 y로, 나머지 컬럼을 feature값 X로 할당한 후 훈련데이터셋과 검증데이터셋으로 분리하세요.\n",
    "* 대상 데이터프레임: df_preset\n",
    "* 훈련 데이터셋 label: y_train, 훈련 데이터셋 Feature: X_train\n",
    "* 검증 데이터셋 label: y_valid, 검증 데이터셋 Feature: X_valid\n",
    "* 훈련 데이터셋과 검증데이터셋 비율은 80:20\n",
    "* random_state: 42\n",
    "* Scikit-learn의 train_test_split 함수를 활용하세요."
   ]
  },
  {
   "cell_type": "code",
   "execution_count": 41,
   "id": "da848455-7b93-47fd-8ac4-d844b2a4e7be",
   "metadata": {
    "tags": []
   },
   "outputs": [],
   "source": [
    "from sklearn.model_selection import train_test_split\n",
    "target = 'Time_Driving'\n",
    "X = df_preset.drop(columns=target)\n",
    "y = df_preset.loc[:,target]\n",
    "X_train, X_valid, y_train, y_valid = train_test_split(X,y, test_size=0.2, random_state=42)"
   ]
  },
  {
   "cell_type": "markdown",
   "id": "a0f356a6-f40f-45e2-a559-d5d04e75ea3f",
   "metadata": {},
   "source": [
    "<br>"
   ]
  },
  {
   "cell_type": "markdown",
   "id": "8fb3c92a-4027-4076-bdb0-6f3bda7da917",
   "metadata": {},
   "source": [
    "### 11. Time_Driving(실주행시간)을 예측하는 머신러닝 모델을 만들려고 합니다.\n",
    "### 의사결정나무(decision tree)는 여러 가지 규칙을 순차적으로 적용하면서 독립 변수 공간을 분할하는 모형으로\n",
    "### 분류(classification)와 회귀 분석(regression)에 모두 사용될 수 있습니다.\n",
    "### 의사결정나무(decision tree)로 학습을 진행하세요.\n",
    "* 트리의 최대 깊이: 5로 설정\n",
    "* 노드를 분할하기 위한 최소한의 샘플 데이터수(min_samples_split): 3로 설정\n",
    "* random_state: 120로 설정"
   ]
  },
  {
   "cell_type": "code",
   "execution_count": 44,
   "id": "8901a3f2-3839-4831-afeb-fd2877eef954",
   "metadata": {},
   "outputs": [
    {
     "data": {
      "text/plain": [
       "0.9126535010667329"
      ]
     },
     "execution_count": 44,
     "metadata": {},
     "output_type": "execute_result"
    }
   ],
   "source": [
    "from sklearn.tree import DecisionTreeRegressor\n",
    "model_dt = DecisionTreeRegressor(max_depth=5, min_samples_split=3, random_state=120)\n",
    "model_dt.fit(X_train, y_train)\n",
    "model_dt.score(X_train, y_train)"
   ]
  },
  {
   "cell_type": "markdown",
   "id": "c42fb023-9864-4471-8a45-44fdbfd35e93",
   "metadata": {},
   "source": [
    "<br>"
   ]
  },
  {
   "cell_type": "markdown",
   "id": "1ccbcefa-d9b4-454f-b82a-f755d5f16283",
   "metadata": {},
   "source": [
    "### 12. 위 의사결정나무(decision tree) 모델의 성능을 평가하려고 합니다.\n",
    "### 예측 결과의 mae(Mean Absolute Error)를 구하세요.\n",
    "* 성능 평가는 검증 데이터셋을 활용하세요.\n",
    "* 11번 문제에서 만든 의사결정나무(decision tree) 모델로 y값을 예측(predict)하여 y_pred에 저장하세요.\n",
    "* 검증 정답(y_valid)과 예측값(y_pred)의 mae(Mean Absolute Error)를 구하고 dt_mae 변수에 저장하세요."
   ]
  },
  {
   "cell_type": "code",
   "execution_count": 47,
   "id": "8a8b9d20-a680-4000-9b3a-aadfe5d6cb02",
   "metadata": {},
   "outputs": [],
   "source": [
    "from sklearn.metrics import mean_absolute_error\n",
    "y_pred = model_dt.predict(X_valid)\n",
    "dt_mae = mean_absolute_error(y_valid, y_pred)"
   ]
  },
  {
   "cell_type": "markdown",
   "id": "ca8e3bcd-70a1-41fe-b050-2a7b3d97280b",
   "metadata": {
    "tags": []
   },
   "source": [
    "<br>"
   ]
  },
  {
   "cell_type": "markdown",
   "id": "9d72df85-cb80-4f1b-a4db-01ea5b4ec30d",
   "metadata": {},
   "source": [
    "##### **<span style=\"color:red\">다음 문항을 풀기 전에</span> 아래 코드를 실행하세요.**"
   ]
  },
  {
   "cell_type": "code",
   "execution_count": 50,
   "id": "5f6e8b6d-f740-4d98-9189-78cdb98991d0",
   "metadata": {},
   "outputs": [],
   "source": [
    "import tensorflow as tf\n",
    "from tensorflow.keras.models import Sequential, load_model\n",
    "from tensorflow.keras.layers import Dense, Activation, Dropout, BatchNormalization\n",
    "from tensorflow.keras.callbacks import EarlyStopping, ModelCheckpoint\n",
    "from tensorflow.keras.utils import to_categorical\n",
    "\n",
    "tf.random.set_seed(1)"
   ]
  },
  {
   "cell_type": "markdown",
   "id": "0d15cb7c-f9fd-45ce-85e0-7ea72a4091a5",
   "metadata": {
    "tags": []
   },
   "source": [
    "<br>"
   ]
  },
  {
   "cell_type": "markdown",
   "id": "e897fb3e-1364-4445-ac10-920f82ae4232",
   "metadata": {},
   "source": [
    "### 13. Time_Driving(실주행시간)을 예측하는 딥러닝 모델을 만들려고 합니다.\n",
    "### 아래 가이드에 따라 모델링하고 학습을 진행하세요.\n",
    "* Tensoflow framework를 사용하여 딥러닝 모델을 만드세요.\n",
    "* 히든레이어(hidden layer) 2개이상으로 모델을 구성하세요.\n",
    "* dropout 비율 0.2로 Dropout 레이어 1개를 추가해 주세요.\n",
    "* 손실함수는 MSE(Mean Squared Error)를 사용하세요.\n",
    "* 하이퍼파라미터 epochs: 30, batch_size: 16으로 설정해주세요.\n",
    "* 각 에포크마다 loss와 metrics 평가하기 위한 데이터로 X_valid, y_valid 사용하세요.\n",
    "* 학습정보는 history 변수에 저장해주세요"
   ]
  },
  {
   "cell_type": "markdown",
   "id": "12f33874-3f1e-4b63-ba3e-91d90ee5e512",
   "metadata": {},
   "source": [
    "<br>"
   ]
  },
  {
   "cell_type": "code",
   "execution_count": 60,
   "id": "f1246298-84fc-417f-a140-e8cecb0cafc5",
   "metadata": {},
   "outputs": [
    {
     "name": "stdout",
     "output_type": "stream",
     "text": [
      "Epoch 1/30\n",
      "\u001b[1m2772/2772\u001b[0m \u001b[32m━━━━━━━━━━━━━━━━━━━━\u001b[0m\u001b[37m\u001b[0m \u001b[1m8s\u001b[0m 2ms/step - loss: 239820.0625 - mse: 239820.0625 - val_loss: 75856.6328 - val_mse: 75856.6328\n",
      "Epoch 2/30\n",
      "\u001b[1m2772/2772\u001b[0m \u001b[32m━━━━━━━━━━━━━━━━━━━━\u001b[0m\u001b[37m\u001b[0m \u001b[1m6s\u001b[0m 2ms/step - loss: 90897.0547 - mse: 90897.0547 - val_loss: 39099.3086 - val_mse: 39099.3086\n",
      "Epoch 3/30\n",
      "\u001b[1m2772/2772\u001b[0m \u001b[32m━━━━━━━━━━━━━━━━━━━━\u001b[0m\u001b[37m\u001b[0m \u001b[1m11s\u001b[0m 2ms/step - loss: 65445.4336 - mse: 65445.4336 - val_loss: 28561.1465 - val_mse: 28561.1465\n",
      "Epoch 4/30\n",
      "\u001b[1m2772/2772\u001b[0m \u001b[32m━━━━━━━━━━━━━━━━━━━━\u001b[0m\u001b[37m\u001b[0m \u001b[1m10s\u001b[0m 2ms/step - loss: 54416.3438 - mse: 54416.3438 - val_loss: 17934.4023 - val_mse: 17934.4023\n",
      "Epoch 5/30\n",
      "\u001b[1m2772/2772\u001b[0m \u001b[32m━━━━━━━━━━━━━━━━━━━━\u001b[0m\u001b[37m\u001b[0m \u001b[1m10s\u001b[0m 2ms/step - loss: 48109.0195 - mse: 48109.0195 - val_loss: 13193.1826 - val_mse: 13193.1826\n",
      "Epoch 6/30\n",
      "\u001b[1m2772/2772\u001b[0m \u001b[32m━━━━━━━━━━━━━━━━━━━━\u001b[0m\u001b[37m\u001b[0m \u001b[1m6s\u001b[0m 2ms/step - loss: 42331.5234 - mse: 42331.5234 - val_loss: 10259.9209 - val_mse: 10259.9209\n",
      "Epoch 7/30\n",
      "\u001b[1m2772/2772\u001b[0m \u001b[32m━━━━━━━━━━━━━━━━━━━━\u001b[0m\u001b[37m\u001b[0m \u001b[1m6s\u001b[0m 2ms/step - loss: 42893.5312 - mse: 42893.5312 - val_loss: 14521.2646 - val_mse: 14521.2646\n",
      "Epoch 8/30\n",
      "\u001b[1m2772/2772\u001b[0m \u001b[32m━━━━━━━━━━━━━━━━━━━━\u001b[0m\u001b[37m\u001b[0m \u001b[1m6s\u001b[0m 2ms/step - loss: 42339.7031 - mse: 42339.7031 - val_loss: 7848.4316 - val_mse: 7848.4316\n",
      "Epoch 9/30\n",
      "\u001b[1m2772/2772\u001b[0m \u001b[32m━━━━━━━━━━━━━━━━━━━━\u001b[0m\u001b[37m\u001b[0m \u001b[1m11s\u001b[0m 2ms/step - loss: 39049.8789 - mse: 39049.8789 - val_loss: 20042.1191 - val_mse: 20042.1191\n",
      "Epoch 10/30\n",
      "\u001b[1m2772/2772\u001b[0m \u001b[32m━━━━━━━━━━━━━━━━━━━━\u001b[0m\u001b[37m\u001b[0m \u001b[1m6s\u001b[0m 2ms/step - loss: 37959.6445 - mse: 37959.6445 - val_loss: 8009.3032 - val_mse: 8009.3032\n",
      "Epoch 11/30\n",
      "\u001b[1m2772/2772\u001b[0m \u001b[32m━━━━━━━━━━━━━━━━━━━━\u001b[0m\u001b[37m\u001b[0m \u001b[1m6s\u001b[0m 2ms/step - loss: 38641.0469 - mse: 38641.0469 - val_loss: 9892.8535 - val_mse: 9892.8535\n",
      "Epoch 12/30\n",
      "\u001b[1m2772/2772\u001b[0m \u001b[32m━━━━━━━━━━━━━━━━━━━━\u001b[0m\u001b[37m\u001b[0m \u001b[1m6s\u001b[0m 2ms/step - loss: 34376.3438 - mse: 34376.3438 - val_loss: 7410.2065 - val_mse: 7410.2065\n",
      "Epoch 13/30\n",
      "\u001b[1m2772/2772\u001b[0m \u001b[32m━━━━━━━━━━━━━━━━━━━━\u001b[0m\u001b[37m\u001b[0m \u001b[1m6s\u001b[0m 2ms/step - loss: 34568.0586 - mse: 34568.0586 - val_loss: 8811.0811 - val_mse: 8811.0811\n",
      "Epoch 14/30\n",
      "\u001b[1m2772/2772\u001b[0m \u001b[32m━━━━━━━━━━━━━━━━━━━━\u001b[0m\u001b[37m\u001b[0m \u001b[1m6s\u001b[0m 2ms/step - loss: 33547.9727 - mse: 33547.9727 - val_loss: 6105.3608 - val_mse: 6105.3608\n",
      "Epoch 15/30\n",
      "\u001b[1m2772/2772\u001b[0m \u001b[32m━━━━━━━━━━━━━━━━━━━━\u001b[0m\u001b[37m\u001b[0m \u001b[1m10s\u001b[0m 2ms/step - loss: 34435.5469 - mse: 34435.5469 - val_loss: 6465.7114 - val_mse: 6465.7114\n",
      "Epoch 16/30\n",
      "\u001b[1m2772/2772\u001b[0m \u001b[32m━━━━━━━━━━━━━━━━━━━━\u001b[0m\u001b[37m\u001b[0m \u001b[1m5s\u001b[0m 2ms/step - loss: 31689.2480 - mse: 31689.2480 - val_loss: 11710.0117 - val_mse: 11710.0117\n",
      "Epoch 17/30\n",
      "\u001b[1m2772/2772\u001b[0m \u001b[32m━━━━━━━━━━━━━━━━━━━━\u001b[0m\u001b[37m\u001b[0m \u001b[1m6s\u001b[0m 2ms/step - loss: 34448.4219 - mse: 34448.4219 - val_loss: 19017.3789 - val_mse: 19017.3789\n",
      "Epoch 18/30\n",
      "\u001b[1m2772/2772\u001b[0m \u001b[32m━━━━━━━━━━━━━━━━━━━━\u001b[0m\u001b[37m\u001b[0m \u001b[1m10s\u001b[0m 2ms/step - loss: 33027.6641 - mse: 33027.6641 - val_loss: 8153.0239 - val_mse: 8153.0239\n",
      "Epoch 19/30\n",
      "\u001b[1m2772/2772\u001b[0m \u001b[32m━━━━━━━━━━━━━━━━━━━━\u001b[0m\u001b[37m\u001b[0m \u001b[1m11s\u001b[0m 2ms/step - loss: 30618.1348 - mse: 30618.1348 - val_loss: 17658.0898 - val_mse: 17658.0898\n",
      "Epoch 20/30\n",
      "\u001b[1m2772/2772\u001b[0m \u001b[32m━━━━━━━━━━━━━━━━━━━━\u001b[0m\u001b[37m\u001b[0m \u001b[1m6s\u001b[0m 2ms/step - loss: 31579.1934 - mse: 31579.1934 - val_loss: 6069.9888 - val_mse: 6069.9888\n",
      "Epoch 21/30\n",
      "\u001b[1m2772/2772\u001b[0m \u001b[32m━━━━━━━━━━━━━━━━━━━━\u001b[0m\u001b[37m\u001b[0m \u001b[1m10s\u001b[0m 2ms/step - loss: 31599.3574 - mse: 31599.3574 - val_loss: 16056.7715 - val_mse: 16056.7715\n",
      "Epoch 22/30\n",
      "\u001b[1m2772/2772\u001b[0m \u001b[32m━━━━━━━━━━━━━━━━━━━━\u001b[0m\u001b[37m\u001b[0m \u001b[1m11s\u001b[0m 2ms/step - loss: 32203.6973 - mse: 32203.6973 - val_loss: 7345.2461 - val_mse: 7345.2461\n",
      "Epoch 23/30\n",
      "\u001b[1m2772/2772\u001b[0m \u001b[32m━━━━━━━━━━━━━━━━━━━━\u001b[0m\u001b[37m\u001b[0m \u001b[1m6s\u001b[0m 2ms/step - loss: 31615.7461 - mse: 31615.7461 - val_loss: 8063.1030 - val_mse: 8063.1030\n",
      "Epoch 24/30\n",
      "\u001b[1m2772/2772\u001b[0m \u001b[32m━━━━━━━━━━━━━━━━━━━━\u001b[0m\u001b[37m\u001b[0m \u001b[1m10s\u001b[0m 2ms/step - loss: 31404.2148 - mse: 31404.2148 - val_loss: 13264.8545 - val_mse: 13264.8545\n",
      "Epoch 25/30\n",
      "\u001b[1m2772/2772\u001b[0m \u001b[32m━━━━━━━━━━━━━━━━━━━━\u001b[0m\u001b[37m\u001b[0m \u001b[1m10s\u001b[0m 2ms/step - loss: 31753.0977 - mse: 31753.0977 - val_loss: 17337.0547 - val_mse: 17337.0547\n",
      "Epoch 26/30\n",
      "\u001b[1m2772/2772\u001b[0m \u001b[32m━━━━━━━━━━━━━━━━━━━━\u001b[0m\u001b[37m\u001b[0m \u001b[1m6s\u001b[0m 2ms/step - loss: 29667.2168 - mse: 29667.2168 - val_loss: 8540.2227 - val_mse: 8540.2227\n",
      "Epoch 27/30\n",
      "\u001b[1m2772/2772\u001b[0m \u001b[32m━━━━━━━━━━━━━━━━━━━━\u001b[0m\u001b[37m\u001b[0m \u001b[1m10s\u001b[0m 2ms/step - loss: 31337.0508 - mse: 31337.0508 - val_loss: 3519.9607 - val_mse: 3519.9607\n",
      "Epoch 28/30\n",
      "\u001b[1m2772/2772\u001b[0m \u001b[32m━━━━━━━━━━━━━━━━━━━━\u001b[0m\u001b[37m\u001b[0m \u001b[1m10s\u001b[0m 2ms/step - loss: 31033.0840 - mse: 31033.0840 - val_loss: 7296.9878 - val_mse: 7296.9878\n",
      "Epoch 29/30\n",
      "\u001b[1m2772/2772\u001b[0m \u001b[32m━━━━━━━━━━━━━━━━━━━━\u001b[0m\u001b[37m\u001b[0m \u001b[1m6s\u001b[0m 2ms/step - loss: 31617.1719 - mse: 31617.1719 - val_loss: 10123.5771 - val_mse: 10123.5771\n",
      "Epoch 30/30\n",
      "\u001b[1m2772/2772\u001b[0m \u001b[32m━━━━━━━━━━━━━━━━━━━━\u001b[0m\u001b[37m\u001b[0m \u001b[1m11s\u001b[0m 2ms/step - loss: 31200.0098 - mse: 31200.0098 - val_loss: 8721.4883 - val_mse: 8721.4883\n"
     ]
    }
   ],
   "source": [
    "import tensorflow as tf\n",
    "from tensorflow.keras.models import Sequential\n",
    "from tensorflow.keras.layers import Dense, Dropout\n",
    "\n",
    "# 딥러닝 모델 정의\n",
    "model = Sequential()\n",
    "\n",
    "model.add(Dense(64, activation='relu', input_shape=(X_train.shape[1],)))\n",
    "model.add(Dense(32, activation='relu'))\n",
    "model.add(Dropout(0.2))\n",
    "model.add(Dense(1))\n",
    "model.compile(optimizer='adam', loss='mse', metrics=['mse'])\n",
    "\n",
    "# 모델 학습\n",
    "history = model.fit(X_train, y_train, epochs=30, batch_size=16, validation_data=(X_valid, y_valid))"
   ]
  },
  {
   "cell_type": "markdown",
   "id": "8989c197-ec84-4192-955d-1c52d34cb006",
   "metadata": {},
   "source": [
    "### 14. 위 딥러닝 모델의 성능을 평가하려고 합니다.\n",
    "### Matplotlib 라이브러리 활용해서 학습 mse와 검증 mse를 그래프로 표시하세요.\n",
    "* 1개의 그래프에 학습 mse과 검증 mse 2가지를 모두 표시하세요.\n",
    "* 위 2가지 각각의 범례를 'mae', 'mse'로 표시하세요.\n",
    "* 그래프의 타이틀은 'Model MSE'로 표시하세요.\n",
    "* X축에는 'Epochs'라고 표시하고 Y축에는 'MSE'라고 표시하세요."
   ]
  },
  {
   "cell_type": "code",
   "execution_count": 62,
   "id": "e5094d66-0b51-45bf-89f0-07af04d7909e",
   "metadata": {},
   "outputs": [
    {
     "data": {
      "image/png": "[encoded data removed]",
      "text/plain": [
       "<Figure size 1000x600 with 1 Axes>"
      ]
     },
     "metadata": {},
     "output_type": "display_data"
    }
   ],
   "source": [
    "import matplotlib.pyplot as plt\n",
    "\n",
    "train_mse = history.history['mse']\n",
    "val_mse = history.history['val_mse']\n",
    "\n",
    "plt.figure(figsize=(10, 6))\n",
    "plt.plot(train_mse, label='train mse', color='blue')\n",
    "plt.plot(val_mse, label='val mse', color='orange')\n",
    "\n",
    "plt.title('Model MSE')\n",
    "plt.xlabel('Epochs')\n",
    "plt.ylabel('MSE')\n",
    "\n",
    "plt.legend()\n",
    "\n",
    "plt.show()"
   ]
  },
  {
   "cell_type": "code",
   "execution_count": null,
   "id": "a3d8e984-4cd2-4c92-b522-f4d31fe704c0",
   "metadata": {},
   "outputs": [],
   "source": []
  }
 ],
 "metadata": {
  "kernelspec": {
   "display_name": "Python 3 (ipykernel)",
   "language": "python",
   "name": "python3"
  },
  "language_info": {
   "codemirror_mode": {
    "name": "ipython",
    "version": 3
   },
   "file_extension": ".py",
   "mimetype": "text/x-python",
   "name": "python",
   "nbconvert_exporter": "python",
   "pygments_lexer": "ipython3",
   "version": "3.12.4"
  }
 },
 "nbformat": 4,
 "nbformat_minor": 5
}
