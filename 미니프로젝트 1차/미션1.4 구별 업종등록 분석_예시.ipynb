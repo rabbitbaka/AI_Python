{
 "cells": [
  {
   "cell_type": "markdown",
   "id": "b72f45ea-9bee-4292-975b-8dd3f89af7fb",
   "metadata": {},
   "source": [
    "# AIVLE스쿨 1차 미니프로젝트: 서울시 생활정보 기반 대중교통 수요 분석"
   ]
  },
  {
   "cell_type": "markdown",
   "id": "1d661414-a305-495f-b8fd-1dcf08278caf",
   "metadata": {},
   "source": [
    "<img src = \"https://github.com/Jangrae/img/blob/master/cafe.png?raw=true\" width=800, align=\"left\"/>"
   ]
  },
  {
   "cell_type": "markdown",
   "id": "72e67b1a-b273-4b28-adf4-cb00124e7719",
   "metadata": {},
   "source": [
    "- 본 과정에서는 실제 사례와 데이터를 기반으로 문제를 해결하는 전체 과정을 자기 주도형 실습으로 진행해볼 예정입니다.\n",
    "- 앞선 교육과정을 정리하는 마음과 지금까지 배운 내용을 바탕으로 문제 해결을 해볼게요!\n",
    "- 미니 프로젝트를 통한 문제 해결 과정 'A에서 Z까지', 지금부터 시작합니다!"
   ]
  },
  {
   "cell_type": "markdown",
   "id": "81533645-6b9f-41a9-845a-1ea00f8b8053",
   "metadata": {},
   "source": [
    "# [미션 4] 구별 업종등록 데이터 분석"
   ]
  },
  {
   "cell_type": "markdown",
   "id": "714c4ffa-56e5-4d7b-a70a-c4b0b2997332",
   "metadata": {
    "id": "gklxNfgNpkls"
   },
   "source": [
    "### 로컬 수행(Anaconda)\n",
    "- project 폴더에 필요한 파일들을 넣고, 본 파일을 열었다면, 별도 경로 지정이 필요하지 않습니다."
   ]
  },
  {
   "cell_type": "code",
   "execution_count": null,
   "id": "abfb6aa9-dc07-4838-9abe-c3794d6bb1fc",
   "metadata": {
    "id": "PNI6X2yxpkls",
    "tags": []
   },
   "outputs": [],
   "source": [
    "# 기본 경로\n",
    "path = ''"
   ]
  },
  {
   "cell_type": "markdown",
   "id": "124aae58-fc1b-4239-97ff-2d588c2deb80",
   "metadata": {
    "id": "7rWT4biQpkls"
   },
   "source": [
    "### 구글 콜랩 수행\n",
    "\n",
    "- 구글 콜랩을 사용중이면 구글 드라이브를 연결합니다."
   ]
  },
  {
   "cell_type": "code",
   "execution_count": null,
   "id": "933e484f-7d76-42aa-a14d-2d64fee4aeb6",
   "metadata": {
    "id": "CLasRk8Spklt",
    "tags": []
   },
   "outputs": [],
   "source": [
    "# 구글 드라이브 연결, 패스 지정\n",
    "import sys\n",
    "if 'google.colab' in sys.modules:\n",
    "    from google.colab import drive\n",
    "    drive.mount('/content/drive')\n",
    "    path = '/content/drive/MyDrive/project/'"
   ]
  },
  {
   "cell_type": "markdown",
   "id": "745ce215-c557-49d3-adc7-cfd77e85be15",
   "metadata": {},
   "source": [
    "### 한글 폰트 표시를 위해 설치합니다."
   ]
  },
  {
   "cell_type": "code",
   "execution_count": null,
   "id": "cc379640-83c2-43bd-84a0-764a09aead5f",
   "metadata": {},
   "outputs": [],
   "source": [
    "# 한글 표시를 위한 라이브러리 설치\n",
    "!pip install koreanize_matplotlib -q"
   ]
  },
  {
   "cell_type": "markdown",
   "id": "24cf2aeb-c80b-43df-9ee9-787e000e17a2",
   "metadata": {},
   "source": [
    "### 필요한 라이브러리를 불러옵니다."
   ]
  },
  {
   "cell_type": "code",
   "execution_count": null,
   "id": "83064ffe-9dab-493b-a07b-ff279bf2b28c",
   "metadata": {
    "tags": []
   },
   "outputs": [],
   "source": [
    "# 라이브러리 불러오기\n",
    "import numpy as np\n",
    "import pandas as pd\n",
    "import matplotlib.pyplot as plt\n",
    "import koreanize_matplotlib\n",
    "import warnings\n",
    "\n",
    "warnings.filterwarnings(action='ignore')\n",
    "%config InlineBackend.figure_format='retina'"
   ]
  },
  {
   "cell_type": "markdown",
   "id": "f528b029-b60b-4c01-9e04-803a5212da41",
   "metadata": {},
   "source": [
    "### 기본 데이터: 1.4 seoul_business_type.csv\n",
    "\n",
    "- 서울 시 구별 등록 업종 상위 10개 데이터(제공 가능한 최신 버전)\n",
    "    - 택시 운송업 (개인택시 등록자 주거지)\n",
    "    - 한식일반음식점업\n",
    "    - 용달 화물자동차 운송업(개인용달 등록자 주거지)\n",
    "    - 부동산 중개 및 대리업\n",
    "    - 두발미용업\n",
    "    - 커피전문점\n",
    "    - 남녀용 겉옷 및 셔츠 도매업\n",
    "    - 기타주점업\n",
    "    - 일반 교과 학원\n",
    "    - 한식 육류요리 전문점"
   ]
  },
  {
   "cell_type": "markdown",
   "id": "matched-broad",
   "metadata": {},
   "source": [
    "---"
   ]
  },
  {
   "cell_type": "markdown",
   "id": "warming-gentleman",
   "metadata": {},
   "source": [
    "# 1. 데이터 불러오기\n",
    "\n",
    "- 분석 대상 데이터를 불러와 데이터프레임으로 선언합니다."
   ]
  },
  {
   "cell_type": "markdown",
   "id": "fb77c679-080b-4ac6-90c7-d2d96c1d9c66",
   "metadata": {
    "jp-MarkdownHeadingCollapsed": true
   },
   "source": [
    "### [참고] 데이터 프레임을 불러오고 변수로 저장(CSV 기준으로 진행)\n",
    "\n",
    "- csv: pd.read_csv('파일이름.csv')\n",
    "- txt: pd.read_csv('파일이름.csv', sep='구분자')\n",
    "- xlsx: pd.read_excel('파일이름.xlsx')\n",
    "- pickle: pd.read_pickle('파일이름.pkl')"
   ]
  },
  {
   "cell_type": "markdown",
   "id": "84065679-73f1-49c8-9ff7-a8dbe9719153",
   "metadata": {},
   "source": [
    "## [실습1] 데이터 불러오기\n",
    "\n",
    "- 대상 파일: 1.4 seoul_business_type.csv\n",
    "- 불러온 데이터는 seoul_business 데이터프레임으로 선언하세요.\n",
    "- 데이터 불러올 때 참고할 사항 \n",
    "    - 구분자(sep)는 ',' 입니다\n",
    "    - UTF-8 인코더를 사용해 주세요"
   ]
  },
  {
   "cell_type": "code",
   "execution_count": null,
   "id": "737f248c-cd36-44cc-a2dd-d6dc193d1970",
   "metadata": {
    "tags": []
   },
   "outputs": [],
   "source": [
    "# 데이터 불러오기\n",
    "seoul_business = pd.read_csv(path + '1.4 seoul_business_type.csv', sep=',', encoding='UTF-8')\n",
    "\n",
    "# 확인\n",
    "seoul_business.head()"
   ]
  },
  {
   "cell_type": "markdown",
   "id": "73396b42",
   "metadata": {},
   "source": [
    "---"
   ]
  },
  {
   "cell_type": "markdown",
   "id": "annoying-trout",
   "metadata": {},
   "source": [
    "# 2. 기본 정보 확인 및 전처리\n",
    "\n",
    "- 분석 대상 테이터를 탐색하고 적절한 전처리를 수행합니다."
   ]
  },
  {
   "cell_type": "markdown",
   "id": "c8b5e166-905b-4218-b7f8-212eebd1ae9c",
   "metadata": {},
   "source": [
    "## [실습2] 기본 정보 확인\n",
    "\n",
    "- seoul_business 데이터프레임 정보를 확인하세요.\n",
    "- head(), tail(), info(), describe() 메서드 등을 활용해 보세요."
   ]
  },
  {
   "cell_type": "code",
   "execution_count": null,
   "id": "5529bf6a-b30c-47f8-b155-4a1afb82c224",
   "metadata": {},
   "outputs": [],
   "source": [
    "# tail() 메서드로 하위 데이터 확인\n",
    "seoul_business.tail()"
   ]
  },
  {
   "cell_type": "code",
   "execution_count": null,
   "id": "f36a3d0e-07bc-4236-b705-f5b5a45ea8e0",
   "metadata": {
    "tags": []
   },
   "outputs": [],
   "source": [
    "# info() 메서드로 열 이름, 데이터 개수, 데이터 형식 등 확인\n",
    "seoul_business.info()"
   ]
  },
  {
   "cell_type": "code",
   "execution_count": null,
   "id": "9f0a5f18-76b0-49a5-b9f1-62558407879b",
   "metadata": {
    "tags": []
   },
   "outputs": [],
   "source": [
    "# describe() 메서드로 기술통계정보 확인\n",
    "seoul_business.describe()"
   ]
  },
  {
   "cell_type": "markdown",
   "id": "ceb6dd86-095f-4ae3-a12a-d9eede2231ce",
   "metadata": {},
   "source": [
    "## [실습3] 주요 업종 선택\n",
    "\n",
    "- 대중교통 이동수요가 높을 것으로 예상되는 업종, 종사자수가 많은 업종만을 선택합니다.\n",
    "- 단, '자치구' 열은 꼭 포함해야 합니다.\n",
    "    - 예: '자치구', '한식 일반 음식점업', '커피전문점', '기타주점업' \n",
    "- seoul_business 데이터프레임이 위에서 선택한 열만 갖도록 변경하세요."
   ]
  },
  {
   "cell_type": "code",
   "execution_count": null,
   "id": "c68969ff-9ec0-4eb5-90f0-cb38090fc5d1",
   "metadata": {
    "tags": []
   },
   "outputs": [],
   "source": [
    "# 대중교통 이동수요가 높을 것으로 예상되는 업종, 종사자수가 많은 업종\n",
    "# df = df[['열1', '열2', '열3']] 형태의 구문 사용\n",
    "seoul_business = seoul_business[['자치구','한식 일반 음식점업','한식 육류요리 전문점','커피전문점','기타주점업','택시운송업','남녀용 겉옷 및 셔츠 도매업','부동산 중개 및 대리업']]\n",
    "\n",
    "# 확인\n",
    "seoul_business.head()"
   ]
  },
  {
   "cell_type": "markdown",
   "id": "2a694f43-8a8a-4ebb-b08c-c041b9d10820",
   "metadata": {},
   "source": [
    "- seoul_business 데이터프레임을 df_seoul_business.csv 파일로 저장하세요."
   ]
  },
  {
   "cell_type": "code",
   "execution_count": null,
   "id": "f2d4100e-e165-45cc-a633-fd1b33711f83",
   "metadata": {
    "tags": []
   },
   "outputs": [],
   "source": [
    "# csv 파일로 저장 (파일명: df_seoul_business.csv)\n",
    "# 참고: to_csv() 메서드를 사용, index=False 지정 \n",
    "seoul_business.to_csv(path + 'df_seoul_business.csv', index=False)"
   ]
  },
  {
   "cell_type": "markdown",
   "id": "602b8bae",
   "metadata": {},
   "source": [
    "---"
   ]
  },
  {
   "cell_type": "markdown",
   "id": "39efb26a-361a-4ab7-979b-349a8b0b7a5a",
   "metadata": {},
   "source": [
    "# 3. 데이터 분석\n",
    "\n",
    "- 다양한 분석 과정을 통해 인사이트를 도출하세요."
   ]
  },
  {
   "cell_type": "markdown",
   "id": "a3c977e5-b693-4d54-a4cf-0a0781be20dc",
   "metadata": {},
   "source": [
    "## [실습4] 시각화 분석\n",
    "\n",
    "- 다양한 열를 기준으로 그래프를 그려보고 인사이트를 도출해보세요."
   ]
  },
  {
   "cell_type": "code",
   "execution_count": null,
   "id": "2a610ade",
   "metadata": {},
   "outputs": [],
   "source": [
    "# 자치구별 한식 일반 음식점업 종사자 수 시각화\n",
    "plt.figure(figsize=(12, 6))\n",
    "plt.bar(x='자치구', height='한식 일반 음식점업', data=seoul_business)\n",
    "plt.title('자치구별 한식 일반 음식점업 종사자 수', size=20, pad=15)\n",
    "plt.xticks(rotation=45)\n",
    "plt.show()"
   ]
  },
  {
   "cell_type": "code",
   "execution_count": null,
   "id": "e494f168-f7f1-4603-805c-e509aa280004",
   "metadata": {},
   "outputs": [],
   "source": [
    "# 자치구별 커피전문점 종사자 수 시각화\n",
    "plt.figure(figsize=(12, 6))\n",
    "plt.bar(x='자치구', height='커피전문점', data=seoul_business)\n",
    "plt.title('자치구별 커피전문점 종사자 수', size=20, pad=15)\n",
    "plt.xticks(rotation=45)\n",
    "plt.show()"
   ]
  },
  {
   "cell_type": "code",
   "execution_count": null,
   "id": "f5ab1dc2-3a87-458a-a238-f45f7532dab7",
   "metadata": {},
   "outputs": [],
   "source": [
    "# 자치구별 기타주점업 종사자 수 시각화\n",
    "plt.figure(figsize=(12, 6))\n",
    "plt.bar(x='자치구', height='기타주점업', data=seoul_business)\n",
    "plt.title('자치구별 기타주점업 종사자 수', size=20, pad=15)\n",
    "plt.xticks(rotation=45)\n",
    "plt.show()"
   ]
  },
  {
   "cell_type": "code",
   "execution_count": null,
   "id": "86892a60",
   "metadata": {
    "tags": []
   },
   "outputs": [],
   "source": [
    "# 위 차트를 통해 알게된 사실을 정리해 보세요.\n",
    "# 자치구별 한식 일반 음식점업 종사자 수 분포: 강남구가 제일 많고, 서초구, 영등포구, 중구, 종로구 등 직장수요가 높은 자치구\n",
    "# 자치구별 커피전문점 종사자 수 분포: 강남구, 마포구 등 맛집이 많은 곳에 많이 분포\n",
    "# 자치구별 기타주점업 종사자 수 분포: 기타주점업도 커피전문점이 많은 곳에 대체적으로 분포"
   ]
  }
 ],
 "metadata": {
  "kernelspec": {
   "display_name": "Python 3",
   "language": "python",
   "name": "python3"
  },
  "language_info": {
   "codemirror_mode": {
    "name": "ipython",
    "version": 3
   },
   "file_extension": ".py",
   "mimetype": "text/x-python",
   "name": "python",
   "nbconvert_exporter": "python",
   "pygments_lexer": "ipython3",
   "version": "3.12.4"
  },
  "vscode": {
   "interpreter": {
    "hash": "f08154012ddadd8e950e6e9e035c7a7b32c136e7647e9b7c77e02eb723a8bedb"
   }
  }
 },
 "nbformat": 4,
 "nbformat_minor": 5
}
